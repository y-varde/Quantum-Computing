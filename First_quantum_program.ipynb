{
 "cells": [
  {
   "cell_type": "markdown",
   "metadata": {},
   "source": [
    "This notebook will walk you through writing your first quantum program, and running it on quantum devices in the cloud! Let's start with some setup.\n",
    "\n",
    "Before you read further: one of the great features of Jupyter notebooks is that you can run code inside them: to run a cell containing code, press Shift+Enter."
   ]
  },
  {
   "cell_type": "markdown",
   "metadata": {
    "tags": []
   },
   "source": [
    "<h1 style=\"color:MediumSeaGreen;\">Setup</h1>"
   ]
  },
  {
   "cell_type": "code",
   "execution_count": 1,
   "metadata": {
    "tags": []
   },
   "outputs": [],
   "source": [
    "import qbraid"
   ]
  },
  {
   "cell_type": "markdown",
   "metadata": {
    "tags": []
   },
   "source": [
    "<h2 style=\"color:MediumSeaGreen;\">Installing the qBraid-SDK environment</h2>"
   ]
  },
  {
   "cell_type": "markdown",
   "metadata": {},
   "source": [
    "- At the very top of the right sidebar, click on the **ENVS** icon;\n",
    "- In the window that opens, click on **ADD** at the top right;\n",
    "- Look for qBraid-SDK in the list of environments. If the environment appears \"locked\", click on the **CREDITS** button in the navigation bar at the top. Insert the Access Key 'EHNU6626'. Then, come back, and refresh this webpage.\n",
    "- Click on the dropdown arrow on qBraid-SDK, and then on **install**. This will install the environment in your virtual workspace (this may take a minute).\n",
    "- Once the installation is complete, you should see qBraid-SDK in the list of environment upon clicking on **ENVS**."
   ]
  },
  {
   "cell_type": "markdown",
   "metadata": {},
   "source": [
    "<h2 style=\"color:MediumSeaGreen;\">Switching the \"kernel\" of your Jupyter notebook</h2>"
   ]
  },
  {
   "cell_type": "markdown",
   "metadata": {},
   "source": [
    "Each notebook (like the one you reading right now) is powered by a \"kernel\", i.e. a backend, that enables it to run the code that appears in the notebook. We want to switch to a kernel where all of the necessary packages to run on quantum devices are already installed.\n",
    "\n",
    "- At the top right of this notebook, click where it says \"Python 3 [Default]\" (this is most likely what you will see unless you have already switched to a different kernel). A dropdown menu will appear (where Python 3 [Default] is one of the options). You should now also see the option \"Python 3 [qBraid]\". Select this.\n",
    "- In the navigation bar at the top, go to **Kernel**, and then **Restart Kernel**."
   ]
  },
  {
   "cell_type": "markdown",
   "metadata": {
    "tags": []
   },
   "source": [
    "<h1 style=\"color:MediumSeaGreen;\">Your first quantum program</h1>"
   ]
  },
  {
   "cell_type": "markdown",
   "metadata": {},
   "source": [
    "To write and run quantum programs, we will be using the Python package *Qiskit*: this is developed by IBM and lets us build and run quantum circuits on IBM's very own quantum computer.\n",
    "\n",
    "Using other packages we will be able to \"convert\" circuits written in qiskit to circuits that we can run on other quantum devices.\n",
    "\n",
    "A very important thing to note is that you can also *simulate* quantum circuits of small enough size on classical computers: recall that performing quantum gates is nothing other than multiplying matrices and vectors. Such calculations can certainly be performed by a classical computer! The catch is that they very quickly become intractable as the size of the quantum circuits being simulated grows. qiskit also provides a functionality for simulating quantum circuits. You will mostly be running classical simulations of the quantum circuits that you write, but you will sometimes run them on actual quantum devices as part of your homeworks. Once you have written the code for a simulation of a quantum circuit, running it on an actual quantum device will be as simple as changing one argument in your code. "
   ]
  },
  {
   "cell_type": "markdown",
   "metadata": {},
   "source": [
    "Let's build our first quantum circuit, which does the following: starting from a qubit in the state $\\left| 0 \\right \\rangle$, it applies a Hadamard gate, and then measures."
   ]
  },
  {
   "cell_type": "code",
   "execution_count": 2,
   "metadata": {
    "tags": []
   },
   "outputs": [
    {
     "data": {
      "image/png": "[encoded data removed]",
      "text/plain": [
       "<Figure size 185.453x200.667 with 1 Axes>"
      ]
     },
     "execution_count": 2,
     "metadata": {},
     "output_type": "execute_result"
    }
   ],
   "source": [
    "# qiskit contains the class QuantumCircuit with which you can build quantum circuits.\n",
    "# So, the first step is to import this class\n",
    "from qiskit import QuantumCircuit\n",
    "\n",
    "# An object from the QuantumCircuit class is initialized by specifying two numbers.\n",
    "circ = QuantumCircuit(1, 1)\n",
    "# The first argument '1' specifies the number of qubits in our QuantumCircuit object, 1 in this case.\n",
    "# The second argument '1' specifies that we will be storing a single classical bit\n",
    "# of output from our future measurement, i.e. we will measure a single qubit.\n",
    "\n",
    "# To add a Hadamard gate we use the function 'h' of QuantumCircuit:\n",
    "circ.h(0)\n",
    "\n",
    "# In the above line, circ is the circuit we just created, and we are inserting the hadamard gate using '.h(0)'\n",
    "# The '0' in the argument specifies that we want the gate to be applied on the zeroth qubit.\n",
    "# And yes, the qubit numbering starts at 0, as is typical in Python.\n",
    "\n",
    "# At this point we already have a quantum circuit ready. We can \"draw\" it by using the function 'draw'\n",
    "circ.draw(output=\"mpl\")"
   ]
  },
  {
   "cell_type": "markdown",
   "metadata": {},
   "source": [
    "The circuit above is the quantum circuit we specified. The bottom wire just reminds us that we will be storing one bit from the output of our measurement."
   ]
  },
  {
   "cell_type": "markdown",
   "metadata": {},
   "source": [
    "So far we have only drawn the quantum circuit. To actually run the circuit and measure its output we will make use of two additional modules in qiskit: \"Aer\" and \"execute\". But first, let's add the measurement operation in our circuit."
   ]
  },
  {
   "cell_type": "code",
   "execution_count": 3,
   "metadata": {
    "tags": []
   },
   "outputs": [
    {
     "name": "stdout",
     "output_type": "stream",
     "text": [
      "{'1': 493, '0': 507}\n"
     ]
    }
   ],
   "source": [
    "circ.measure(0, 0)\n",
    "# The first argument specifies that we are measuring the first qubit (Python starts counting\n",
    "# from zero), and the second argument specifies that we are storing the output\n",
    "# of this measurement in the first output bit.\n",
    "\n",
    "# Import Aer and execute\n",
    "from qiskit_aer import AerSimulator\n",
    "\n",
    "# The Aer module contains many simulators. We will be using one called AerSimulator.\n",
    "# By convention, we refer to the simulator (or the actual quantum computer) as a backend.\n",
    "# and if you wanted to run your quantum circuit on an actual quantum computer, you would just need to replace\n",
    "# 'AerSimulator' with the name of the quantum computer.\n",
    "backend_sim = AerSimulator()\n",
    "\n",
    "# Once you specify the backend, you can just go ahead and execute the circuit with the function \"run\".\n",
    "sim = backend_sim.run(circ, shots=1000)\n",
    "# Shots specifies how many times the quantum circuit is run.\n",
    "\n",
    "# The results from the execution are stored in 'sim' and can be obtained using\n",
    "sim_result = sim.result()\n",
    "\n",
    "# From the result object we can get the count of the 0s and 1s from the circuit\n",
    "counts = sim_result.get_counts(circ)\n",
    "print(counts)"
   ]
  },
  {
   "cell_type": "markdown",
   "metadata": {},
   "source": [
    "We ran the quantum circuit 1000 times. As you could expect, we got outcomes '0' and '1' roughly with a 50-50 split. We can plot the outcomes stored in the variable 'counts' using the following code:"
   ]
  },
  {
   "cell_type": "code",
   "execution_count": 8,
   "metadata": {
    "tags": []
   },
   "outputs": [
    {
     "data": {
      "image/png": "[encoded data removed]",
      "text/plain": [
       "<Figure size 640x480 with 1 Axes>"
      ]
     },
     "metadata": {},
     "output_type": "display_data"
    }
   ],
   "source": [
    "from qbraid.visualization import plot_histogram\n",
    "\n",
    "plot_histogram(counts)"
   ]
  },
  {
   "cell_type": "markdown",
   "metadata": {},
   "source": [
    "<h2 style=\"color:MediumSeaGreen;\">More single qubit gates</h2>"
   ]
  },
  {
   "cell_type": "code",
   "execution_count": 4,
   "metadata": {
    "tags": []
   },
   "outputs": [
    {
     "data": {
      "image/png": "[encoded data removed]",
      "text/plain": [
       "<Figure size 436.286x117.056 with 1 Axes>"
      ]
     },
     "execution_count": 4,
     "metadata": {},
     "output_type": "execute_result"
    }
   ],
   "source": [
    "circ = QuantumCircuit(\n",
    "    1\n",
    ")  # we omit the second argument as we will just draw the circuit,\n",
    "# without measuring.\n",
    "\n",
    "circ.h(0)  # Adds a Hadamard on the zeroth qubit.\n",
    "\n",
    "circ.x(0)  # Pauli X\n",
    "\n",
    "circ.y(0)  # Pauli Y\n",
    "\n",
    "circ.z(0)  # Pauli Z\n",
    "\n",
    "circ.draw(output=\"mpl\")"
   ]
  },
  {
   "cell_type": "markdown",
   "metadata": {},
   "source": [
    "<h2 style=\"color:MediumSeaGreen;\">Circuits of multiple qubits</h2>\n",
    "\n",
    "Next, we'll build a circuit involving multiple qubits and multi-qubit gates."
   ]
  },
  {
   "cell_type": "code",
   "execution_count": 5,
   "metadata": {
    "tags": []
   },
   "outputs": [
    {
     "data": {
      "image/png": "[encoded data removed]",
      "text/plain": [
       "<Figure size 371.107x284.278 with 1 Axes>"
      ]
     },
     "execution_count": 5,
     "metadata": {},
     "output_type": "execute_result"
    }
   ],
   "source": [
    "circ = QuantumCircuit(3)  # the first argument specifies that we are building a circuit\n",
    "# of 3 qubits.\n",
    "\n",
    "circ.h(2)  # Adds a Hadamard on the third qubit (Python starts counting from zero..)\n",
    "\n",
    "circ.x(1)  # Adds a Pauli X on the second qubit\n",
    "\n",
    "circ.cx(0, 1)  # Adds a CNOT gate on control qubit 0 and target qubit 1.\n",
    "\n",
    "circ.cz(1, 2)  # Adds a Controlled-Z gate on control qubit 1 and target qubit 2.\n",
    "\n",
    "circ.draw(output=\"mpl\")"
   ]
  },
  {
   "cell_type": "markdown",
   "metadata": {},
   "source": [
    "Here's another example. We'll run a circuit that creates the EPR pair $\\frac{1}{\\sqrt{2}}\\left| 00 \\right\\rangle + \\frac{1}{\\sqrt{2}}\\left| 11 \\right\\rangle$ and then measures both qubits."
   ]
  },
  {
   "cell_type": "code",
   "execution_count": 6,
   "metadata": {
    "tags": []
   },
   "outputs": [
    {
     "data": {
      "image/png": "[encoded data removed]",
      "text/plain": [
       "<Figure size 287.294x284.278 with 1 Axes>"
      ]
     },
     "execution_count": 6,
     "metadata": {},
     "output_type": "execute_result"
    }
   ],
   "source": [
    "circ = QuantumCircuit(2, 2)  # the first argument specifies that we are building a circuit\n",
    "# of 2 qubits.\n",
    "# The second argument specifies that we'll be measuring both qubits.\n",
    "\n",
    "circ.h(0)  # Adds a Hadamard on the first qubit (Python starts counting from zero..)\n",
    "\n",
    "circ.cx(0, 1)  # Adds a CNOT gate on control qubit 0 and target qubit 1.\n",
    "\n",
    "circ.draw(output=\"mpl\")"
   ]
  },
  {
   "cell_type": "markdown",
   "metadata": {},
   "source": [
    "Next, we measure both qubits and plot the outputs."
   ]
  },
  {
   "cell_type": "code",
   "execution_count": 9,
   "metadata": {
    "tags": []
   },
   "outputs": [
    {
     "name": "stdout",
     "output_type": "stream",
     "text": [
      "{'11': 546, '00': 454}\n"
     ]
    },
    {
     "data": {
      "image/png": "[encoded data removed]",
      "text/plain": [
       "<Figure size 640x480 with 1 Axes>"
      ]
     },
     "metadata": {},
     "output_type": "display_data"
    }
   ],
   "source": [
    "circ.measure([0, 1], [1, 0])\n",
    "# The first argument specifies the list of qubits that we are measuring,\n",
    "# The second argument specifies the list of output bits (created earlier) in which we will store the outcomes,\n",
    "# Notice that we have reversed the second list: this is because by convention qiskit orders the classical bits in reverse relative to the qubits.\n",
    "# We recommend always reversing the list of classical bits, so that the qubits and classical output bits are ordered in the same way.\n",
    "\n",
    "# We go ahead and execute the circuit with the function \"run\".\n",
    "sim = backend_sim.run(circ, shots=1000)\n",
    "# Recall that shots specifies how many times the quantum circuit is run.\n",
    "\n",
    "# The results from the execution are stored in 'sim' and can be obtained using\n",
    "sim_result = sim.result()\n",
    "# From the result object we can get the count of the 0s and 1s from the circuit\n",
    "counts = sim_result.get_counts(circ)\n",
    "print(counts)\n",
    "\n",
    "# We plot the outcomes stored in the variable 'counts':\n",
    "plot_histogram(counts)"
   ]
  },
  {
   "cell_type": "markdown",
   "metadata": {},
   "source": [
    "As expected, the output is roughly evenly split between the strings '00' and '11'."
   ]
  },
  {
   "cell_type": "markdown",
   "metadata": {},
   "source": [
    "<h1 style=\"color:MediumSeaGreen;\">Running on actual quantum devices!</h1>"
   ]
  },
  {
   "cell_type": "markdown",
   "metadata": {},
   "source": [
    "Current quantum devices are relatively small and noisy, and, most importantly, so far still unable to demonstrate a speedup on a useful computational problem. Nonetheless, it is very exciting to live in a time where quantum devices are coming to life, and we can even interact with some of them remotely! Let's see how to do this.\n",
    "\n",
    "One convenient feature of the qBraid SDK is that it allows you to write your quantum circuit *once*, and run it most of the available quantum devices (from IBM, Rigetti, Xanadu, QuEra, Oxford Quantum Circuits, IonQ)."
   ]
  },
  {
   "cell_type": "markdown",
   "metadata": {},
   "source": [
    "<h2 style=\"color:MediumSeaGreen;\">Getting information about available quantum devices</h2>"
   ]
  },
  {
   "cell_type": "markdown",
   "metadata": {
    "tags": []
   },
   "source": [
    "We can obtain information about the supported quantum devices using the \"get_devices\" function, as in the cell below. This returns information about the current status of supported devices (whether they are currently available to run quantum jobs or not), as well as their \"qBraid ID\", which you will need to include in your code when submitting a quantum job. You can also see the status of quantum devices by clicking on the \"DEVICES\" in the sidebar on the right."
   ]
  },
  {
   "cell_type": "markdown",
   "metadata": {},
   "source": [
    "There is a chance you might get the error \"No module named qbraid\" when running the cell below. If you do, just switch your kernel back to `Python 3 [Default]` momentarily, and then switch back to `Python 3 [qBraid]`. This should fix the issue."
   ]
  },
  {
   "cell_type": "code",
   "execution_count": 10,
   "metadata": {
    "tags": []
   },
   "outputs": [
    {
     "data": {
      "text/html": [
       "<h3>Supported Devices</h3><table><tr>\n",
       "    <th style='text-align:left'>Provider</th>\n",
       "    <th style='text-align:left'>Name</th>\n",
       "    <th style='text-align:left'>qBraid ID</th>\n",
       "    <th style='text-align:left'>Status</th></tr>\n",
       "    <tr>\n",
       "        <td style='text-align:left'>AWS</td>\n",
       "        <td style='text-align:left'>DM1</td>\n",
       "        <td style='text-align:left'><code>aws_dm_sim</code></td>\n",
       "        <td><span style='color:green'>●</span></td></tr>\n",
       "        <tr>\n",
       "        <td style='text-align:left'>AWS</td>\n",
       "        <td style='text-align:left'>SV1</td>\n",
       "        <td style='text-align:left'><code>aws_sv_sim</code></td>\n",
       "        <td><span style='color:green'>●</span></td></tr>\n",
       "        <tr>\n",
       "        <td style='text-align:left'>AWS</td>\n",
       "        <td style='text-align:left'>TN1</td>\n",
       "        <td style='text-align:left'><code>aws_tn_sim</code></td>\n",
       "        <td><span style='color:green'>●</span></td></tr>\n",
       "        <tr>\n",
       "        <td style='text-align:left'>IBM</td>\n",
       "        <td style='text-align:left'>Brisbane</td>\n",
       "        <td style='text-align:left'><code>ibm_q_brisbane</code></td>\n",
       "        <td><span style='color:green'>●</span></td></tr>\n",
       "        <tr>\n",
       "        <td style='text-align:left'>IBM</td>\n",
       "        <td style='text-align:left'>Ext. stabilizer simulator</td>\n",
       "        <td style='text-align:left'><code>ibm_q_simulator_extended_stabilizer</code></td>\n",
       "        <td><span style='color:red'>○</span></td></tr>\n",
       "        <tr>\n",
       "        <td style='text-align:left'>IBM</td>\n",
       "        <td style='text-align:left'>Kyoto</td>\n",
       "        <td style='text-align:left'><code>ibm_q_kyoto</code></td>\n",
       "        <td><span style='color:green'>●</span></td></tr>\n",
       "        <tr>\n",
       "        <td style='text-align:left'>IBM</td>\n",
       "        <td style='text-align:left'>MPS simulator</td>\n",
       "        <td style='text-align:left'><code>ibm_q_simulator_mps</code></td>\n",
       "        <td><span style='color:red'>○</span></td></tr>\n",
       "        <tr>\n",
       "        <td style='text-align:left'>IBM</td>\n",
       "        <td style='text-align:left'>Osaka</td>\n",
       "        <td style='text-align:left'><code>ibm_q_osaka</code></td>\n",
       "        <td><span style='color:green'>●</span></td></tr>\n",
       "        <tr>\n",
       "        <td style='text-align:left'>IBM</td>\n",
       "        <td style='text-align:left'>Oslo</td>\n",
       "        <td style='text-align:left'><code>ibm_q_oslo</code></td>\n",
       "        <td><span style='color:red'>○</span></td></tr>\n",
       "        <tr>\n",
       "        <td style='text-align:left'>IBM</td>\n",
       "        <td style='text-align:left'>QASM simulator</td>\n",
       "        <td style='text-align:left'><code>ibm_q_qasm_simulator</code></td>\n",
       "        <td><span style='color:red'>○</span></td></tr>\n",
       "        <tr>\n",
       "        <td style='text-align:left'>IBM</td>\n",
       "        <td style='text-align:left'>Sherbrooke</td>\n",
       "        <td style='text-align:left'><code>ibm_q_sherbrooke</code></td>\n",
       "        <td><span style='color:green'>●</span></td></tr>\n",
       "        <tr>\n",
       "        <td style='text-align:left'>IBM</td>\n",
       "        <td style='text-align:left'>Stabilizer simulator</td>\n",
       "        <td style='text-align:left'><code>ibm_q_simulator_stabilizer</code></td>\n",
       "        <td><span style='color:red'>○</span></td></tr>\n",
       "        <tr>\n",
       "        <td style='text-align:left'>IBM</td>\n",
       "        <td style='text-align:left'>State vector simulator</td>\n",
       "        <td style='text-align:left'><code>ibm_q_simulator_statevector</code></td>\n",
       "        <td><span style='color:red'>○</span></td></tr>\n",
       "        <tr>\n",
       "        <td style='text-align:left'>IonQ</td>\n",
       "        <td style='text-align:left'>Aria-1</td>\n",
       "        <td style='text-align:left'><code>aws_ionq_aria1</code></td>\n",
       "        <td><span style='color:green'>●</span></td></tr>\n",
       "        <tr>\n",
       "        <td style='text-align:left'>IonQ</td>\n",
       "        <td style='text-align:left'>Aria-2</td>\n",
       "        <td style='text-align:left'><code>aws_ionq_aria2</code></td>\n",
       "        <td><span style='color:red'>○</span></td></tr>\n",
       "        <tr>\n",
       "        <td style='text-align:left'>IonQ</td>\n",
       "        <td style='text-align:left'>Forte-1</td>\n",
       "        <td style='text-align:left'><code>aws_ionq_forte1</code></td>\n",
       "        <td><span style='color:green'>●</span></td></tr>\n",
       "        <tr>\n",
       "        <td style='text-align:left'>IonQ</td>\n",
       "        <td style='text-align:left'>Harmony</td>\n",
       "        <td style='text-align:left'><code>aws_ionq_harmony</code></td>\n",
       "        <td><span style='color:green'>●</span></td></tr>\n",
       "        <tr>\n",
       "        <td style='text-align:left'>OQC</td>\n",
       "        <td style='text-align:left'>Lucy</td>\n",
       "        <td style='text-align:left'><code>aws_oqc_lucy</code></td>\n",
       "        <td><span style='color:red'>○</span></td></tr>\n",
       "        <tr>\n",
       "        <td style='text-align:left'>QuEra</td>\n",
       "        <td style='text-align:left'>Aquila</td>\n",
       "        <td style='text-align:left'><code>aws_quera_aquila</code></td>\n",
       "        <td><span style='color:green'>●</span></td></tr>\n",
       "        <tr>\n",
       "        <td style='text-align:left'>Rigetti</td>\n",
       "        <td style='text-align:left'>Aspen-M-3</td>\n",
       "        <td style='text-align:left'><code>aws_rigetti_aspen_m3</code></td>\n",
       "        <td><span style='color:red'>○</span></td></tr>\n",
       "        <tr>\n",
       "        <td style='text-align:left'>qBraid</td>\n",
       "        <td style='text-align:left'>QIR sparse simulator</td>\n",
       "        <td style='text-align:left'><code>qbraid_qir_simulator</code></td>\n",
       "        <td><span style='color:green'>●</span></td></tr>\n",
       "        <tr><td colspan='4'; style='text-align:right'>Device status updated 20 minutes ago</td></tr></table>"
      ],
      "text/plain": [
       "<IPython.core.display.HTML object>"
      ]
     },
     "metadata": {},
     "output_type": "display_data"
    }
   ],
   "source": [
    "from qbraid import get_devices\n",
    "\n",
    "get_devices()"
   ]
  },
  {
   "cell_type": "markdown",
   "metadata": {},
   "source": [
    "<h2 style=\"color:MediumSeaGreen;\">Submitting a quantum job</h2>"
   ]
  },
  {
   "cell_type": "markdown",
   "metadata": {},
   "source": [
    "We will now run the circuit we specified earlier (that creates an EPR pair and measures both qubits) on a quantum device!"
   ]
  },
  {
   "cell_type": "code",
   "execution_count": 11,
   "metadata": {
    "tags": []
   },
   "outputs": [],
   "source": [
    "from qbraid.providers import QbraidProvider\n",
    "\n",
    "provider = QbraidProvider()"
   ]
  },
  {
   "cell_type": "code",
   "execution_count": null,
   "metadata": {
    "tags": []
   },
   "outputs": [],
   "source": [
    "device = provider.get_device(\"aws_sv_sim\")\n",
    "\n",
    "quantum_job = device.run(circ, shots=250)"
   ]
  },
  {
   "cell_type": "code",
   "execution_count": null,
   "metadata": {
    "tags": []
   },
   "outputs": [],
   "source": [
    "quantum_job.status()"
   ]
  },
  {
   "cell_type": "markdown",
   "metadata": {},
   "source": [
    "Actually, the job that was just completed was not on an actual quantum device! It was on a classical \"simulator\", i.e. a classical computer that simulates the behaviour of a quantum computer (so you were tricked -- as an aside, this raises the question \"how can you be convinced that the output you are getting was really produced by a genuinely quantum device?\" This is in fact an active topic of research!). \n",
    "\n",
    "You can run submit a job to one of the available quantum devices by just modifying the entry for the \"qBraid ID\" of the device (which is currently 'aws_sv_sim'). Find the \"qBraid ID\" of another supported device from the list you produced earlier, e.g. 'aws_rigetti_aspen_m3'. In order to submit a quantum job to a device, the latter needs to be online. You can check its status by looking at the **DEVICES** tab on the right."
   ]
  },
  {
   "cell_type": "markdown",
   "metadata": {},
   "source": [
    "<h2 style=\"color:MediumSeaGreen;\">Retrieving quantum jobs</h2>"
   ]
  },
  {
   "cell_type": "markdown",
   "metadata": {},
   "source": [
    "The quantum jobs that you submitted may take a while to complete (they will most likely be in a queue for some time, could be hours..). In the meantime, if your notebook stays idle, your kernel may automatically restart, and all of the variables will be cleared. Nonetheless you can always retrieve the jobs you submitted using the function \"get_jobs\". This will display a list of the the 10 most recently submitted jobs."
   ]
  },
  {
   "cell_type": "code",
   "execution_count": null,
   "metadata": {
    "tags": []
   },
   "outputs": [],
   "source": [
    "from qbraid import get_jobs\n",
    "from qbraid.providers import QuantumJob"
   ]
  },
  {
   "cell_type": "code",
   "execution_count": null,
   "metadata": {
    "tags": []
   },
   "outputs": [],
   "source": [
    "get_jobs()"
   ]
  },
  {
   "cell_type": "markdown",
   "metadata": {},
   "source": [
    "From the list, you can copy the qBraid ID of the job your are interested in, and if it's status is \"COMPLETED\", you will be able to retrieve the results as follows. "
   ]
  },
  {
   "cell_type": "code",
   "execution_count": null,
   "metadata": {
    "tags": []
   },
   "outputs": [],
   "source": [
    "saved_job_id = \"aws_sv_sim-andrea-qjob-l5ya3moo0lb19c19sv7w\"  # insert the qBraid ID of one of your submitted jobs from the list above\n",
    "qjob = QuantumJob.retrieve(saved_job_id)"
   ]
  },
  {
   "cell_type": "markdown",
   "metadata": {},
   "source": [
    "You can then retrieve the results and plot them."
   ]
  },
  {
   "cell_type": "code",
   "execution_count": null,
   "metadata": {
    "tags": []
   },
   "outputs": [],
   "source": [
    "qresult = qjob.result()\n",
    "\n",
    "counts = qresult.measurement_counts()\n",
    "\n",
    "print(counts)"
   ]
  },
  {
   "cell_type": "code",
   "execution_count": null,
   "metadata": {
    "tags": []
   },
   "outputs": [],
   "source": [
    "plot_histogram(counts)"
   ]
  },
  {
   "cell_type": "markdown",
   "metadata": {},
   "source": [
    "<h2 style=\"color:MediumSeaGreen;\">Running on IBM's devices</h2>"
   ]
  },
  {
   "cell_type": "markdown",
   "metadata": {},
   "source": [
    "To run on IBM's quantum devices, you'll first need to create an account on IBM Quantum (https://quantum.ibm.com/). You IBM Quantum account will be assigned an API token. You can find this in the top right of the \"dashboard\" there. Copy the API token and come back to this page. \n",
    "\n",
    "To run on the IBM quantum devices, you'll modify the previous code slightly. "
   ]
  },
  {
   "cell_type": "code",
   "execution_count": 12,
   "metadata": {
    "tags": []
   },
   "outputs": [],
   "source": [
    "from qbraid.providers import QbraidProvider\n",
    "\n",
    "token = 'f5284730d0b6f8f3a2144ff93d9e95501efc13f7c6c4a5fe6ed99cb2f8ef97377b6957c4f876ca09a35c4e82260cf4d5466912486d713d90dfd7fe346186039b' #your IBM Quantum API token\n",
    "provider = QbraidProvider(qiskit_ibm_token=token)"
   ]
  },
  {
   "cell_type": "code",
   "execution_count": 13,
   "metadata": {
    "tags": []
   },
   "outputs": [],
   "source": [
    "device = provider.get_device(\"ibm_q_sherbrooke\") #input the qBraid ID of one of the available IBM devices\n",
    "\n",
    "quantum_job = device.run(circ, shots=250)"
   ]
  },
  {
   "cell_type": "markdown",
   "metadata": {},
   "source": [
    "You can check the status of your job, and retrieve its results using the same code as before."
   ]
  },
  {
   "cell_type": "code",
   "execution_count": null,
   "metadata": {
    "tags": []
   },
   "outputs": [],
   "source": [
    "quantum_job.status()"
   ]
  },
  {
   "cell_type": "markdown",
   "metadata": {},
   "source": [
    "(Several hours later..) Retrieve the job once it's completed (recall that you can always check the status of all your jobs by calling the function get_jobs)"
   ]
  },
  {
   "cell_type": "code",
   "execution_count": null,
   "metadata": {
    "tags": []
   },
   "outputs": [],
   "source": [
    "saved_job_id = \"\"  # insert the qBraid ID of one of your submitted jobs from the list above\n",
    "qjob = QuantumJob.retrieve(saved_job_id)"
   ]
  },
  {
   "cell_type": "code",
   "execution_count": null,
   "metadata": {},
   "outputs": [],
   "source": [
    "qresult = qjob.result()\n",
    "\n",
    "counts = qresult.measurement_counts()\n",
    "\n",
    "print(counts)"
   ]
  }
 ],
 "metadata": {
  "kernelspec": {
   "display_name": "Python 3 [qBraid]",
   "language": "python",
   "name": "python3_qbraid_sdk_9j9sjy"
  },
  "language_info": {
   "codemirror_mode": {
    "name": "ipython",
    "version": 3
   },
   "file_extension": ".py",
   "mimetype": "text/x-python",
   "name": "python",
   "nbconvert_exporter": "python",
   "pygments_lexer": "ipython3",
   "version": "3.9.18"
  },
  "toc-autonumbering": true,
  "widgets": {
   "application/vnd.jupyter.widget-state+json": {
    "state": {},
    "version_major": 2,
    "version_minor": 0
   }
  }
 },
 "nbformat": 4,
 "nbformat_minor": 4
}
