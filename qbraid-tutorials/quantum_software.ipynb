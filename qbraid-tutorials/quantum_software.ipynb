{
 "cells": [
  {
   "cell_type": "markdown",
   "metadata": {},
   "source": [
    "<!-- .<h1 style=\"color:MediumSeaGreen;\" align=\"center\" class=\"tocSkip\"> <center>Complex Numbers</center> </h1>  -->\n",
    "<center><font size=6 color='MediumSeaGreen'><b>Overview of quantum software</b> </font></center>"
   ]
  },
  {
   "cell_type": "markdown",
   "metadata": {},
   "source": [
    "<h1 style=\"color:MediumSeaGreen;\"> Summary </h1> \n",
    "<!-- <h1 style=\"color:MediumSeaGreen;\" align='middle'> Summary </h1>  -->\n",
    "\n",
    "- Introduction to quantum software\n",
    "- Quantum computing software and hardware strategy\n",
    "- [qiskit](https://github.com/Qiskit) by IBM\n",
    "- [quantumlib](https://github.com/quantumlib) by Google\n",
    "- [pyquil](https://github.com/rigetti) by Rigetti\n",
    "- [strawberryfields and pennylane](https://github.com/XanaduAI) by Xanadu"
   ]
  },
  {
   "cell_type": "markdown",
   "metadata": {},
   "source": [
    "<h1 style=\"color:MediumSeaGreen\">Quantum Software  </h1> \n",
    "<!-- <h2 style=\"color:#b64c35;\">Quantum Software  </h2>  -->\n",
    "\n",
    "Just the way software has played crucial role in the development of lot of applications for classical computers, we expect that same will be true for quantum computers as well. There are already lot of quantum software packages available. Many of them are open source and allows you to jump start you endeavors into quantum world.\n",
    "\n",
    "The purpose of this notebook is to\n",
    "- provide you the understanding of the different layers of quantum software.\n",
    "- provide you an overview of many promising quantum software available today. \n",
    "- highlight the pros and cons of different quantum software packages.\n",
    "- present to you the different capabilities of these packages.\n",
    "- talk about different applications that you may be able to develop using these packages.\n"
   ]
  },
  {
   "cell_type": "markdown",
   "metadata": {},
   "source": [
    "<font color=b64c35 size=5>Quantum software architecture</font><br />\n",
    "\n",
    "Just the way the software for classical computers has layered architecture, quantum software is also layered with abstraction coming in at multiple level. Developing good software at each layer is a challenging task and requires lot of subdomain expertise. Since a single person/team cannot have expertise all the domains it sort of explains why the software needs to have a layered architecture in the first place. Broadly speaking the software can be divided into three layers as shown below: \n"
   ]
  },
  {
   "cell_type": "markdown",
   "metadata": {},
   "source": [
    "<img src=\"images/quantum_software_overview.png\"  height=\"700\" width=\"800\" />"
   ]
  },
  {
   "cell_type": "markdown",
   "metadata": {},
   "source": [
    "<font color=b64c35 size=5>Software for control electronics automation</font><br />\n",
    "\n",
    "At the heart of quantum computers are the qubits which come in many shape and form. Out of the numerous qubit types superconducting qubits, trapped-ion qubits, and photonic qubits, have been perceived most promising and are being pursued the most by the experimental physicists. These are physical systems/devices which are microscopic and are controlled by:\n",
    "\n",
    "- frequency synthesizers and spectrum analyzers in case of superconducting qubits.\n",
    "- laser pulses in case of trapped ions and\n",
    "- non linear optical elements in case of photonic qubits.\n",
    "\n",
    "The first layer of software abstraction comes in with the software that controls the above physical devices using 'control electronics'. This software is responsible for\n",
    "- generating the pulses at correct frequences and analyzing the spectrum in case of superconducting qubits.\n",
    "- controlling and generating the laser pulses to implement gates in case of trapped ions.\n",
    "- controlling the behavior of non-linear optical elements in case of photonic qubits.\n",
    "\n",
    "This layer of software is also responsible for interacting with the base layer of 'quantum software'. It gets as inputs quantum circuits/quantum gates and converts them into sequence of operations to be implemented on the actual hardware."
   ]
  },
  {
   "cell_type": "markdown",
   "metadata": {},
   "source": [
    "<font color=b64c35 size=5>Base layer of quantum software</font><br />\n",
    "\n",
    "This is the layer of the software which is agnostic to the physical implementation of the qubits. The purpose of this base layer is to\n",
    "- automate the process of quantum circuit construction. \n",
    "- provide an efficient representation of qubit operations and quantum circuits.\n",
    "- optimize the quantum circuits. This includes optimizing the qubit count required for the circuit, the number of quantum gates, and the number of measurements.\n",
    "- provide the API for the application layer of the quantum software.  "
   ]
  },
  {
   "cell_type": "markdown",
   "metadata": {},
   "source": [
    "<font color=b64c35 size=5>Application layer of quantum software</font><br />\n",
    "\n",
    "This is the layer where useful applications are developed. At some point in future when quantum computers are robust for long calculations, most of the developers would spend their time in this layer, developing applications. \n",
    " \n",
    "Currently, there are many packages are being developed for quantum chemistry simulations, quantum machine learning, optimization, etc. These packages provide you a way to represent/transform the problem of interest to the qubits and quantum gates. Then the base layer of quantum software could be used to construct the exact circuit to 'solve' the problem.\n"
   ]
  },
  {
   "cell_type": "markdown",
   "metadata": {},
   "source": [
    "<font color=b64c35 size=5>Simulation and error correction packages</font><br />\n",
    "\n",
    "The field of quantum computing is in nascent stages and the present day quantum computers are very noisy. This means that we cannot use them to solve meaningful problems. But, while we work with the small scale quantum computers, we would like to \n",
    "- validate our algorithms\n",
    "- better understand the noise in the quantum computers.\n",
    "- use noise model for a given quantum computer to simulate the algorithm.\n",
    "\n",
    "Many of the simulation packages today aim to provide solution for the above tasks. Further, before the hardware gets extremely robust quantum error correction techniques will be required to run the quantum algorithms. There are many packages which enable one to test out  differetn error correction techniques.\n",
    "\n",
    "Now, we provide some details about various python packages available from various companies developing quantum computing hardware."
   ]
  },
  {
   "cell_type": "markdown",
   "metadata": {},
   "source": [
    "<font color=b64c35 size=5>qiskit by IBM</font><br />\n",
    "\n",
    "IBM provides one of the most comprehensive software suite to access their quantum computer. Currently, IBM has more than 15 quantum computers on the cloud available to public. These can be accessed using their collection of python packages called qiskit, (pronounced 'kiskit'). Qiskit is a bundle of python packages which make up the different layers of quantum computing software for IBM's quantum computer. \n",
    "\n",
    "Different packages make up different layers of the software architecture. We now describe the main packages in qiskit that enable most of the tasks:\n",
    "\n",
    "- qiskit-terra: qiskit terra is the base layer of quantum software for IBM's quantum computing software stack. It provides the APIs to access the IBM's quantum hardware, construct quantum circuits, authenticate users, and tools for visualizing the results from running the quantum circuit. For accessing the hardware, a registration on IBM-Q website is required. Once registered, the generated ssh key can be used to access the quantum computer.\n",
    "- qiskit-aqua: This package lies in the application layer of the quantum software stack. It provides access to implementation of quantum algorithms like quantum phase estimation algorith, Grover's algorithm, variational quantum eigensolver, etc. Further it has dedicated subpackages for applications like quantum chemistry, optimization, etc.\n",
    "- qiskit-aer is a python package which provides functionality for simulating quantum circuits. It provides multiple simulators for the quantum circuits and an option to simulate them with noise.\n",
    "- qiskit-ignis is a package which provides access to various noise mitigation schemes as well as ways to implement new error mitigation schemes for the quantum algorithm.\n"
   ]
  },
  {
   "cell_type": "markdown",
   "metadata": {},
   "source": [
    "<font color=b64c35 size=5>quantumlib by Google</font><br />\n",
    "\n",
    "quantumlib is a collection of opensource quantum computing packages from Google. In comparison to IBM the number of quantum software packages available from google are relatively small. Currently, access to google's quantum hardware is not public. Following are the important quantum software packages from google:\n",
    "\n",
    "- cirq: This package belongs to the base layer of the quantum software stack for google's hardware. This allows the users to construct the quantum circuits which could be run on google's quantum computer. We guess that this would also be used in due time to access google's quantum computer as well.\n",
    "- openfermion: This is the package that can be used to develop quantum chemistry applications. Currently, it is one of the most popular softwares for developing quantum chemistry applications. It interfaces nicely with cirq via the openfermion-cirq package. It also provides support for running calculations on Rigetti's quantum computer as well.\n"
   ]
  },
  {
   "cell_type": "markdown",
   "metadata": {},
   "source": [
    "<font color=b64c35 size=5>Forest by Rigetti</font><br />\n",
    "\n",
    "Like IBM, Rigetti also provides access to its quantum computer through the cloud. Another important feature that Rigetti provides in contrast to IBM and google is that  Rigetti also hosts a high performance quantum circuit simulator in the cloud. Rigetti refers to the collection of its quantum packages which can be used to develop quantum applications as `Forest`. The relevant quantum packages from Rigetti are:\n",
    "\n",
    "- pyquil: This is the base layer for constructing quantum circuits for Rigetti's quantum computer. This interacts with quil, quantum instruction language developed by  Rigetti for quantum computers. This layer also provides a way to authenticate users, API access to Rigetti's quantum computer and quantum virtual machine hosted in cloud by Rigetti.\n",
    "- qvm: is the high performance quantum circuit simulator by Rigetti. \n",
    "\n"
   ]
  },
  {
   "cell_type": "markdown",
   "metadata": {
    "jupyter": {
     "source_hidden": true
    }
   },
   "source": [
    "<h1 style=\"color:MediumSeaGreen\">qBraid-OS  </h1> \n",
    "\n",
    "           "
   ]
  }
 ],
 "metadata": {
  "kernelspec": {
   "display_name": "Python 3 (ipykernel)",
   "language": "python",
   "name": "python3"
  },
  "language_info": {
   "codemirror_mode": {
    "name": "ipython",
    "version": 3
   },
   "file_extension": ".py",
   "mimetype": "text/x-python",
   "name": "python",
   "nbconvert_exporter": "python",
   "pygments_lexer": "ipython3",
   "version": "3.9.10"
  },
  "toc-autonumbering": true,
  "toc-showcode": false,
  "toc-showmarkdowntxt": false
 },
 "nbformat": 4,
 "nbformat_minor": 4
}
