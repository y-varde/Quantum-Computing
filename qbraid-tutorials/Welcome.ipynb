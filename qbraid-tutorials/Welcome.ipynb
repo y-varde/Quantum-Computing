{
 "cells": [
  {
   "cell_type": "markdown",
   "metadata": {},
   "source": [
    "<table><tr>\n",
    "    <td  style=\"background-color:#ffffff;text-align:left;\"><a href=\"https://account.qbraid.com\" target=\"_blank\"><img src=\"qbraid_tutorials/Qubes_course/images/qbraid_logo_verbose.png\" width=\"30%\" align=\"left\"></a></td>\n",
    "    <td style=\"background-color:#ffffff;\">&nbsp;</td>\n",
    "    <td style=\"background-color:#ffffff;vertical-align:text-middle;text-align:right;\">\n",
    "        <table><tr style=\"background-color:white;\">\n",
    "            <td><a href=\"https://twitter.com/qBraid_official\"><img src=\"qbraid_tutorials/Qubes_course/images/twitter-icon.png\" width=\"44px\"></a></td>\n",
    "            <td><a href=\"https://linkedin.com/company/qbraid-official/\" ><img src=\"qbraid_tutorials/Qubes_course/images/linkedin.png\" width=\"40px\"></a></td>\n",
    "            <td><a href=\"https://discord.gg/9jpmpeEV65\"><img src=\"qbraid_tutorials/Qubes_course/images/discord.png\" width=\"60px\"></a></td>\n",
    "            <td><a href=\"https://qbraid-qbraid.readthedocs-hosted.com/en/latest/index.html#\" target=\"_blank\"><img src=\"https://blog.readthedocs.com/_static/logo.png\" width=\"40px\"></a></td>\n",
    "        </tr></table>\n",
    "    </td>     \n",
    "</tr></table>"
   ]
  },
  {
   "cell_type": "markdown",
   "metadata": {
    "tags": []
   },
   "source": [
    "<h1 style=\"color:#D30982; text-align:center;\">Welcome to qBraid!</h1> \n",
    "\n",
    "We are so glad that you are here! Whether you are an absolute quantum beginner (QuBe), a quantum intermediate (QuInt) or a quantum professional (QuPro coming soon), we have something for you. In this notebook, we will show all the cool features of qBraid platform. First, if you are like to learn through videos, you can go through our [video series](https://www.youtube.com/watch?v=h1ZX_m6ZTa0&list=PLjJHNM4_tJZBT2VvyzN50f7WTluISt0s4) introducing qBraid.\n",
    "\n",
    "1. <u> <a href=\"#No_Installation\">Zero to superposition with no installation</a></u><br>\n",
    "    Getting started in quantum on qBraid doesn't require any installation. <br>\n",
    "2. <u><a href=\"#Extensions\">Awesome extension land</a></u><br>\n",
    "    All the important tools for your quantum development needs are included<br>\n",
    "3. <u><a href=\"#Qjobs\">Connect to quantum hardware using qBraid-CLI</a></u><br>\n",
    "    Use qBraid-CLI for running circuits on quantum devices available from IonQ, Dwave, IBM, Rigetti, Xanadu and Oxford Quantum Computing<br>\n",
    "4. <u><a href=\"#SDK\">qBraid SDK</a></u><br>\n",
    "    Redbull isn't the only thing that gives you wings. Our wings are in superposition and entangled (Sorry, we are not very good at making jokes)<br>\n",
    "5. <u><a href=\"#CandR\">Course and resources</a></u><br>\n",
    "    If you are starting your quantum journey, checkout this section to know more about courses on qBraid and other resources for you to learn.<br>\n"
   ]
  },
  {
   "cell_type": "code",
   "execution_count": null,
   "metadata": {},
   "outputs": [],
   "source": [
    "# Make sure to activate the Python 3 [Default] kernel to watch the video.\n",
    "\n",
    "# The access code in this video will not work! \n",
    "#Please stay tuned on our discord or emails to receive exclusive proudct updates\n",
    "from IPython.display import IFrame\n",
    "IFrame(src=\"https://www.youtube.com/watch?v=K4vb2fzmSZQ&ab_channel=qBraid\", width=1920/2, height=1080/2)\n"
   ]
  },
  {
   "cell_type": "markdown",
   "metadata": {},
   "source": [
    "<h2 style=\"color:#9A11DA;\">    </h2>  <a name=\"No_Installation\"></a>\n",
    "<h2 style=\"color:#9A11DA;\"> Zero to superposition with no installation</h2>  \n",
    "\n",
    "On qBraid, you can start developing and running quantum programs right away without having to install *anything* on your local machine. We have made sure that you have access to state-of-the-art libraries for applications of quantum computing, and you will be able to run the quantum algorithms you develop on the state-of-the-art quantum hardware offered by providers around the world. IBM's `qiskit`, Google's `cirq`, AWS's `braket`, and many other software packages required for quantum computing come preinstalled and ready to go. You can run the code-cell given below to verify the installation and checkout Bell circuit in all the different SDKs in [this](./Bell_circ_inall_SDKs.ipynb) notebook.\n"
   ]
  },
  {
   "cell_type": "code",
   "execution_count": null,
   "metadata": {},
   "outputs": [],
   "source": [
    "import qiskit, cirq, braket, pennylane, pyquil, requests\n",
    "print('imports successful!')\n",
    "import pkg_resources\n",
    "installed_packages = {d.project_name: d.version for d in pkg_resources.working_set}\n",
    "print_packages=False #change this to True to see the list of packages\n",
    "if print_packages:\n",
    "    print('====List of Packages Installed====')\n",
    "    for key in installed_packages:\n",
    "        print(key)"
   ]
  },
  {
   "cell_type": "markdown",
   "metadata": {
    "tags": []
   },
   "source": [
    "<img src=\"https://media.giphy.com/media/12UlfHpF05ielO/giphy.gif\"  width=\"500\"  style=\"margin:auto\"/>"
   ]
  },
  {
   "cell_type": "markdown",
   "metadata": {},
   "source": [
    "<h2 style=\"color:#9A11DA;\">    </h2>  <a name=\"Extensions\"></a>\n",
    "<h2 style=\"color:#9A11DA;\">Awesome extension land</h2> \n",
    "\n",
    "At qBraid, we strive to provide you the most streamlined quantum software development experience. This means that things most the of the tools that you would need for your development are already present and ready to go. Following is a non-exhaustive list of important dev-tools which are available for you on qBraid:\n",
    "\n",
    "- **Git**: The default tool for collaboration between developers is preinstalled. You can also use the graphical user-interface available on the left-sidebar. A quick tutorial for using Git-GUI on qBraid is available [here]().\n",
    "- **Code-snippets**: Code-snippets is a tiny app that we built with-in our IDE to allow you to search important quantum code-snippets. You can find qiskit/braket/cirq circuits for Bell, GHZ, etc. We encourage you to contribute  to earn 'quantum-karma'\n",
    "- **Docs**: This extension, available through in the launcher is a one-stop for finding docs for all the major quantum-SDKs. \n",
    "- **Environment Manager (Envs)**: This is an advanced feature for experienced developers. With environment manager, we provide you the easiest way to manage your various python environments. We have developed and tested python environments that you would need for development for SDKs available from AWS, Google, IBM and many more organizations. These are all available for you at a click of a button. We also take care of all the configuration to get hardware access. Click here to watch a tutorial on Environment-Manager or visit our [**docs**](https://qbraid-qbraid.readthedocs-hosted.com/en/latest/lab/overview.html) to learn all the features of environment manager.\n",
    "\n",
    "\n",
    "\n",
    "\n"
   ]
  },
  {
   "cell_type": "markdown",
   "metadata": {},
   "source": [
    "<h2 style=\"color:#9A11DA;\">    </h2>  <a name=\"Qjobs\"></a>\n",
    "<h2 style=\"color:#9A11DA;\">Connect to quantum hardware using qBraid-CLI</h2> \n",
    "qBraid-CLI is our custom CLI built for the quantum world. It lets you perform all the configurations required for connecting to quantum computers available from various hardware vendors with a few simple commands that you can run from these notebooks. The CLI allows you to accomplish many different tasks like, install new packages in a given python environment, check the how much qBraid-credits are left, and get the status of your quantum jobs.\n",
    "\n",
    "You can learn more about the qBraid-CLI using the following command:"
   ]
  },
  {
   "cell_type": "code",
   "execution_count": null,
   "metadata": {},
   "outputs": [],
   "source": [
    "!qbraid"
   ]
  },
  {
   "cell_type": "markdown",
   "metadata": {},
   "source": [
    "<h2 style=\"color:#9A11DA;\">    </h2>  <a name=\"SDK\"></a>\n",
    "<h2 style=\"color:#9A11DA;\">qBraid SDK</h2> \n",
    "\n",
    "qBraid-SDK is our tool to braid various quantum SDKs into one cohesive experience. With qBraid-SDK, you can develop quantum circuits and run them on quantum computers available from, IBM, Rigetti, OQC, and IonQ. You are also welcome to develop your quantum circuits in the language of your choice (qiskit, cirq, braket, or qasm) and specify the quantum device you want to run them, and qBraid-SDK will run the circuits and get you the results. qBraid-SDK includes a transpiler which allows it to convert the circuits between various languages. You can also use the transpiler for your quantum code. The SDK also has many auxiliary features that allow you to keep track of your quantum jobs and find out the status of various quantum computers. \n",
    "Learn more about the qBraid-SDK at https://qbraid-qbraid.readthedocs-hosted.com/en/latest/sdk/overview.html"
   ]
  },
  {
   "cell_type": "markdown",
   "metadata": {},
   "source": [
    "<h2 style=\"color:#9A11DA;\">    </h2>  <a name=\"CandR\"></a>\n",
    "<h2 style=\"color:#9A11DA;\">Courses and Resources</h2> \n",
    "\n",
    "If you are starting out your quantum journey you may want to go through the courses we have available for you, [QuBes course](./qbraid_tutorials/Qubes_course/00_Introduction.ipynb), and [QuInts course](./Quints_course/0_Introduction.ipynb). The QuBes course has minimal prerequisites and is suitable for most people. If you are comfortable with high school level math and science, you would enjoy taking this course. By the end of it, you will be able to write code for basic quantum programs and algorithms and run it on an actual quantum computer. Quints course assumes some proficiency with linear algebra, complex numbers and a bit of quantum mechanics.\n",
    "\n",
    "If you are an advanced learner, check out \n",
    "\n",
    "\n",
    "For best experience checkout the [courses](https://account.qbraid.com/preview-course) on our [qBook](https://qbook.qbraid.com) platform.\n",
    "\n",
    "\n",
    "\n"
   ]
  }
 ],
 "metadata": {
  "kernelspec": {
   "display_name": "Python 3 [Default]",
   "language": "python",
   "name": "python3_qbraid"
  },
  "language_info": {
   "codemirror_mode": {
    "name": "ipython",
    "version": 3
   },
   "file_extension": ".py",
   "mimetype": "text/x-python",
   "name": "python",
   "nbconvert_exporter": "python",
   "pygments_lexer": "ipython3",
   "version": "3.9.10"
  },
  "toc-autonumbering": true,
  "toc-showcode": false,
  "toc-showmarkdowntxt": false
 },
 "nbformat": 4,
 "nbformat_minor": 4
}
