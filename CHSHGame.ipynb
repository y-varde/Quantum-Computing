{
 "cells": [
  {
   "cell_type": "markdown",
   "metadata": {},
   "source": [
    "<h2 style=\"color:MediumSeaGreen;\">Comparing different quantum architectures at the CHSH game</h2>"
   ]
  },
  {
   "cell_type": "code",
   "execution_count": null,
   "metadata": {
    "tags": []
   },
   "outputs": [],
   "source": [
    "import numpy as np\n",
    "import math\n",
    "\n",
    "theta_0 = math.pi/8\n",
    "theta_1 = -math.pi/8\n",
    "\n",
    "A_0 = np.array([[1, 0], [0, 1]])\n",
    "A_1 = np.array([[1, 1], [1, -1]]) / math.sqrt(2)\n",
    "\n",
    "#In numpy, you can take cosine and sine of a number x as \"np.cos(x)\", \"np.sin(x)\".\n",
    "#The syntax for defining your matrix matrices should be, e.g.\n",
    "#B_0 = np.array([[a11, a12], [a21, a22]])\n",
    "#where a11, a12, a21, a22 are the entries.\n",
    "B_0 = np.array([[np.cos(theta_0), np.sin(theta_0)], [-np.sin(theta_0), np.cos(theta_0)]])\n",
    "B_1 = np.array([[np.cos(theta_1), np.sin(theta_1)], [-np.sin(theta_1), np.cos(theta_1)]])"
   ]
  },
  {
   "cell_type": "code",
   "execution_count": null,
   "metadata": {
    "tags": []
   },
   "outputs": [],
   "source": [
    "from qiskit import QuantumCircuit, transpile\n",
    "from qiskit_aer import AerSimulator\n",
    "import random\n",
    "\n",
    "N = 1000 #number of games played\n",
    "\n",
    "games_won = 0\n",
    "sim = AerSimulator()\n",
    "\n",
    "for i in range(N):              #We will play the game N times\n",
    "    \n",
    "    circ = QuantumCircuit(2, 2) #Define a quantum circuit 'circ' on two qubits that creates an EPR pair\n",
    "    circ.h(0)\n",
    "    circ.cx(0, 1)    \n",
    "    \n",
    "    x = random.randint(0,1)      #sampling a question for Alice\n",
    "    y = random.randint(0,1)      #sampling a question for Bob\n",
    "    \n",
    "    if x == 0:                   \n",
    "        circ.unitary(A_0, [0], label = 'A_0') #add to the previous circuit the appropriate unitary that Alice applies on question x=0\n",
    "    else:                        \n",
    "        circ.unitary(A_1, [0], label = 'A_1') #add to the previous circuit the appropriate unitary that Alice applies on question x=1\n",
    "        \n",
    "    if y == 0:       #add Bob's unitary gate B_0, which you have defined in the previous cell (this is already added for you)\n",
    "        circ.unitary(B_0, [1], label = 'B_0')\n",
    "    else:            #add Bob's unitary gate B_1, which you have defined in the previous cell (this is already added for you)\n",
    "        circ.unitary(B_1, [1], label = 'B_1')\n",
    "    \n",
    "    \n",
    "    #add a measurement of both qubits to your circuit\n",
    "    circ.measure([0, 1], [0, 1])\n",
    "    \n",
    "    #compile circuit in terms of IBM's native gates.\n",
    "    transp_circ = transpile(circ, basis_gates=['rx', 'ry', 'cx'])\n",
    "    \n",
    "    #execute ONE SHOT of your circuit transp_circ using IBM's \"AerSimulator\". \n",
    "    job = sim.run(transp_circ, shots=1)\n",
    "\n",
    "    #get the result of the simulation\n",
    "    sim_result = job.result()\n",
    "    \n",
    "    #get the outcomes\n",
    "    counts = sim_result.get_counts(transp_circ)\n",
    "    a = int(list(dict.keys(counts))[0][0])      # Alice's answer\n",
    "    b = int(list(dict.keys(counts))[0][1])      # Bob's answer\n",
    "\n",
    "    if (a^b) == (x & y): #check the winning condition, and keep track of the information of whether they won or lost\n",
    "        games_won += 1\n",
    "    \n",
    "#print the ratio of games that were won to the total games played N\n",
    "print(\"Ratio of games won to total games played: \", games_won/N)"
   ]
  },
  {
   "cell_type": "code",
   "execution_count": null,
   "metadata": {},
   "outputs": [],
   "source": [
    "#your code here\n",
    "from qiskit import QuantumCircuit, transpile\n",
    "from qiskit_aer import AerSimulator\n",
    "\n",
    "#Define the simulator\n",
    "sim = AerSimulator()\n",
    "\n",
    "#Define the number of shots per question\n",
    "shots = 250\n",
    "\n",
    "#Initialize the dictionary to store the results\n",
    "results = {}\n",
    "\n",
    "#Iterate over all possible questions for Alice and Bob\n",
    "for x in [0, 1]:\n",
    "    for y in [0, 1]:\n",
    "        #initialize the count of games won for this pair of questions\n",
    "        games_won = 0\n",
    "\n",
    "        #Play the game 250 times\n",
    "        for i in range(shots):\n",
    "            #Define the quantum circuit\n",
    "            circ = QuantumCircuit(2, 2)\n",
    "            circ.h(0)\n",
    "            circ.cx(0, 1)\n",
    "            if x == 0:\n",
    "                circ.unitary(A_0, [0], label = 'A_0')\n",
    "            else:\n",
    "                circ.unitary(A_1, [0], label = 'A_1')\n",
    "            if y == 0:\n",
    "                circ.unitary(B_0, [1], label = 'B_0')\n",
    "            else:\n",
    "                circ.unitary(B_1, [1], label = 'B_1')\n",
    "            circ.measure([0, 1], [0, 1])\n",
    "\n",
    "            #Compile the circuit\n",
    "            transp_circ = transpile(circ, basis_gates=['rx', 'ry', 'cx'])\n",
    "            job = sim.run(transp_circ, shots=1)\n",
    "            sim_result = job.result()\n",
    "            counts = sim_result.get_counts(transp_circ)\n",
    "            a = int(list(dict.keys(counts))[0][0])\n",
    "            b = int(list(dict.keys(counts))[0][1])\n",
    "\n",
    "            #Check if the winning condition is satisfied\n",
    "            if (a^b) == (x & y):\n",
    "                games_won += 1\n",
    "\n",
    "        #Store the results in the dictionary\n",
    "        results[(x, y)] = games_won/shots\n",
    "\n",
    "#Print the results\n",
    "for (x, y) in results:\n",
    "    print(\"Alice's question: \", x, \", Bob's question: \", y, \", Ratio of games won: \", results[(x, y)])"
   ]
  },
  {
   "cell_type": "code",
   "execution_count": null,
   "metadata": {
    "tags": []
   },
   "outputs": [],
   "source": [
    "from qbraid import get_devices\n",
    "\n",
    "get_devices()"
   ]
  },
  {
   "cell_type": "code",
   "execution_count": null,
   "metadata": {},
   "outputs": [],
   "source": [
    "from qbraid.providers import QbraidProvider\n",
    "\n",
    "token = \"YOUR_TOKEN\" #replace \"\n",
    "provider = QbraidProvider(qiskit_ibm_token=token)\n",
    "qbraid_id = 'ibm_q_brisbane'\n",
    "device = provider.get_device(qbraid_id)\n",
    "job = device.run(circ, shots=250)"
   ]
  }
 ],
 "metadata": {
  "kernelspec": {
   "display_name": "Python 3 [qBraid]",
   "language": "python",
   "name": "python3_qbraid_sdk_9j9sjy"
  },
  "language_info": {
   "codemirror_mode": {
    "name": "ipython",
    "version": 3
   },
   "file_extension": ".py",
   "mimetype": "text/x-python",
   "name": "python",
   "nbconvert_exporter": "python",
   "pygments_lexer": "ipython3",
   "version": "3.9.18"
  },
  "toc-autonumbering": true,
  "widgets": {
   "application/vnd.jupyter.widget-state+json": {
    "state": {},
    "version_major": 2,
    "version_minor": 0
   }
  }
 },
 "nbformat": 4,
 "nbformat_minor": 4
}
