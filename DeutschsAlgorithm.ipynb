{
 "cells": [
  {
   "cell_type": "markdown",
   "metadata": {},
   "source": [
    "<h2 style=\"color:MediumSeaGreen;\">Implementing Deutsch's algorithm</h2>"
   ]
  },
  {
   "cell_type": "code",
   "execution_count": null,
   "metadata": {
    "tags": []
   },
   "outputs": [
    {
     "data": {
      "text/html": [
       "<pre style=\"word-wrap: normal;white-space: pre;background: #fff0;line-height: 1.1;font-family: &quot;Courier New&quot;,Courier,monospace\">     ┌──────┐\n",
       "q_0: ┤0     ├\n",
       "     │  U_f │\n",
       "q_1: ┤1     ├\n",
       "     └──────┘</pre>"
      ],
      "text/plain": [
       "     ┌──────┐\n",
       "q_0: ┤0     ├\n",
       "     │  U_f │\n",
       "q_1: ┤1     ├\n",
       "     └──────┘"
      ]
     },
     "execution_count": 1,
     "metadata": {},
     "output_type": "execute_result"
    }
   ],
   "source": [
    "from qiskit import QuantumCircuit\n",
    "from python_functions.U_f import U_f\n",
    "\n",
    "circ = QuantumCircuit(2)\n",
    "\n",
    "U_f(circ, [0,1]) #the first argument specifies the circuit that you want to add U_f too, and the second argument lists the qubits it acts on. This should be a list of two indexes. \n",
    "\n",
    "circ.draw()"
   ]
  },
  {
   "cell_type": "code",
   "execution_count": 4,
   "metadata": {},
   "outputs": [],
   "source": [
    "#For technical reasons (since the hidden unitary U_f is involved) you'll want to import the 'transpile' function \n",
    "from qiskit import transpile, QuantumCircuit, ClassicalRegister, QuantumRegister\n",
    "#and compile your circuit into native gates before actually running it.\n",
    "#You will do this by applying the function transpile on your circuit using the syntax at the bottom, \n",
    "#where circ is the name of the circuit you created\n",
    "\n",
    "circuit = QuantumCircuit(2, 1)\n",
    "\n",
    "circuit.x(1)\n",
    "circuit.h(0)\n",
    "circuit.h(1)\n",
    "\n",
    "U_f(circuit, [0,1])\n",
    "\n",
    "circuit.h(0)\n",
    "\n",
    "circuit.measure(0, 0)\n",
    "\n",
    "transp_circ = transpile(circ, basis_gates=['rx', 'ry', 'cx'])\n",
    "\n",
    "transp_circ.draw()\n"
   ]
  },
  {
   "cell_type": "code",
   "execution_count": null,
   "metadata": {},
   "outputs": [],
   "source": [
    "from qbraid import get_devices\n",
    "from qbraid.providers import QbraidProvider\n",
    "\n",
    "get_devices()"
   ]
  },
  {
   "cell_type": "code",
   "execution_count": null,
   "metadata": {},
   "outputs": [],
   "source": [
    "#your code\n",
    "token = 'YOUR_TOKEN' #replace with your token\n",
    "provider = QbraidProvider(qiskit_ibm_token=token)\n",
    "qbraid_id = 'ibmq_q_brisbane'\n",
    "device = provider.get_device(qbraid_id)\n",
    "job = device.run(transp_circ, shots=1024)"
   ]
  }
 ],
 "metadata": {
  "kernelspec": {
   "display_name": "Python 3 [qBraid]",
   "language": "python",
   "name": "python3_qbraid_sdk_9j9sjy"
  },
  "language_info": {
   "codemirror_mode": {
    "name": "ipython",
    "version": 3
   },
   "file_extension": ".py",
   "mimetype": "text/x-python",
   "name": "python",
   "nbconvert_exporter": "python",
   "pygments_lexer": "ipython3",
   "version": "3.9.18"
  },
  "toc-autonumbering": true,
  "widgets": {
   "application/vnd.jupyter.widget-state+json": {
    "state": {},
    "version_major": 2,
    "version_minor": 0
   }
  }
 },
 "nbformat": 4,
 "nbformat_minor": 4
}
